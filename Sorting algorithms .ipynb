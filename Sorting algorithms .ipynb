{
 "cells": [
  {
   "cell_type": "code",
   "execution_count": 149,
   "metadata": {},
   "outputs": [
    {
     "name": "stdout",
     "output_type": "stream",
     "text": [
      "[1, 2, 3, 4, 5, 6, 7, 8, 10, 11, 12, 13, 14, 15]\n"
     ]
    }
   ],
   "source": [
    "l1=[1,6,8,3,2,5,7,4,10,11,15,12,13,14]\n",
    "l2=l1.copy()\n",
    "l2.sort()\n",
    "print(l2)\n"
   ]
  },
  {
   "cell_type": "code",
   "execution_count": 150,
   "metadata": {},
   "outputs": [],
   "source": [
    "def sort_selection(l1):\n",
    "    for i in range(len(l1)-1):\n",
    "        min_index=l1.index(min(l1[i:]))\n",
    "        l1[i],l1[min_index]=l1[min_index],l1[i]\n",
    "    return l1"
   ]
  },
  {
   "cell_type": "code",
   "execution_count": 151,
   "metadata": {},
   "outputs": [
    {
     "data": {
      "text/plain": [
       "[1, 2, 3, 4, 5, 6, 7, 8, 10, 11, 12, 13, 14, 15]"
      ]
     },
     "execution_count": 151,
     "metadata": {},
     "output_type": "execute_result"
    }
   ],
   "source": [
    "sort_selection(l1.copy())"
   ]
  },
  {
   "cell_type": "code",
   "execution_count": 152,
   "metadata": {},
   "outputs": [],
   "source": [
    "def sort_bubble(l1):\n",
    "    for j in range (len(l1)-2):\n",
    "        for i in range (len(l1)-1):\n",
    "            if l1[i]>l1[i+1]:\n",
    "                l1[i],l1[i+1]=l1[i+1],l1[i]\n",
    "    return l1"
   ]
  },
  {
   "cell_type": "code",
   "execution_count": 153,
   "metadata": {},
   "outputs": [
    {
     "data": {
      "text/plain": [
       "[1, 2, 3, 4, 5, 6, 7, 8, 10, 11, 12, 13, 14, 15]"
      ]
     },
     "execution_count": 153,
     "metadata": {},
     "output_type": "execute_result"
    }
   ],
   "source": [
    "sort_bubble(l1.copy())"
   ]
  },
  {
   "cell_type": "code",
   "execution_count": 154,
   "metadata": {},
   "outputs": [],
   "source": [
    "def sort_insertion(l1):\n",
    "    for i in range (len (l1)):\n",
    "        j=i\n",
    "        while j>0 and l1[j]<l1[j-1]:\n",
    "            l1[j],l1[j-1]=l1[j-1],l1[j]\n",
    "            j-=1\n",
    "    return l1"
   ]
  },
  {
   "cell_type": "code",
   "execution_count": 155,
   "metadata": {},
   "outputs": [
    {
     "data": {
      "text/plain": [
       "[1, 2, 3, 4, 5, 6, 7, 8, 10, 11, 12, 13, 14, 15]"
      ]
     },
     "execution_count": 155,
     "metadata": {},
     "output_type": "execute_result"
    }
   ],
   "source": [
    "sort_insertion(l1.copy())"
   ]
  },
  {
   "cell_type": "code",
   "execution_count": 156,
   "metadata": {},
   "outputs": [],
   "source": [
    "# Merging Method\n",
    "\n",
    "def sort_join(l1,l2):\n",
    "    l3=[]\n",
    "    while len(l2)>0 or len(l2)>0:\n",
    "        \n",
    "        if len(l1)>0 and len(l2)>0:\n",
    "            min_index_l1= l1.index(min(l1))\n",
    "            min_index_l2= l2.index(min(l2))\n",
    "            if min(l1)>min(l2):\n",
    "                l3.append(l2[min_index_l2])\n",
    "                l2.pop(min_index_l2)\n",
    "            else:\n",
    "                l3.append(l1[min_index_l1])\n",
    "                l1.pop(min_index_l1)\n",
    "                \n",
    "        elif len(l1)>0:\n",
    "            min_index_l1= l1.index(min(l1))\n",
    "            l3.append(l1[min_index_l1])\n",
    "            l1.pop(min_index_l1)\n",
    "        \n",
    "        elif len(l2)>0:\n",
    "            min_index_l2= l2.index(min(l2))\n",
    "            l3.append(l2[min_index_l2])\n",
    "            l2.pop(min_index_l2)        \n",
    "\n",
    "    return l3\n",
    "\n",
    "def sort_break(l1):\n",
    "    \n",
    "    while len(l1)>3:\n",
    "        devision=len(l1)//2\n",
    "        A=l1[:devision]\n",
    "        B=l1[devision:]\n",
    "        sort_break(A)\n",
    "        sort_break(B)\n",
    "        return sort_join(A,B)\n",
    "    \n"
   ]
  },
  {
   "cell_type": "code",
   "execution_count": 157,
   "metadata": {},
   "outputs": [
    {
     "data": {
      "text/plain": [
       "[1, 2, 3, 4, 5, 6, 7, 8, 10, 11, 12, 13, 14, 15]"
      ]
     },
     "execution_count": 157,
     "metadata": {},
     "output_type": "execute_result"
    }
   ],
   "source": [
    "sort_break(l1.copy())"
   ]
  },
  {
   "cell_type": "code",
   "execution_count": null,
   "metadata": {},
   "outputs": [],
   "source": []
  },
  {
   "cell_type": "code",
   "execution_count": null,
   "metadata": {},
   "outputs": [],
   "source": []
  },
  {
   "cell_type": "code",
   "execution_count": null,
   "metadata": {},
   "outputs": [],
   "source": []
  },
  {
   "cell_type": "code",
   "execution_count": null,
   "metadata": {},
   "outputs": [],
   "source": []
  }
 ],
 "metadata": {
  "kernelspec": {
   "display_name": "Python 3",
   "language": "python",
   "name": "python3"
  },
  "language_info": {
   "codemirror_mode": {
    "name": "ipython",
    "version": 3
   },
   "file_extension": ".py",
   "mimetype": "text/x-python",
   "name": "python",
   "nbconvert_exporter": "python",
   "pygments_lexer": "ipython3",
   "version": "3.8.5"
  }
 },
 "nbformat": 4,
 "nbformat_minor": 4
}
